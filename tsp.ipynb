{
  "nbformat": 4,
  "nbformat_minor": 0,
  "metadata": {
    "kernelspec": {
      "display_name": "Python 3",
      "language": "python",
      "name": "python3"
    },
    "language_info": {
      "codemirror_mode": {
        "name": "ipython",
        "version": 2
      },
      "file_extension": ".py",
      "mimetype": "text/x-python",
      "name": "python",
      "nbconvert_exporter": "python",
      "pygments_lexer": "ipython2",
      "version": "2.7.6"
    },
    "colab": {
      "name": "tsp.ipynb",
      "provenance": [],
      "include_colab_link": true
    }
  },
  "cells": [
    {
      "cell_type": "markdown",
      "metadata": {
        "id": "view-in-github",
        "colab_type": "text"
      },
      "source": [
        "<a href=\"https://colab.research.google.com/github/svanlinden/test/blob/master/tsp.ipynb\" target=\"_parent\"><img src=\"https://colab.research.google.com/assets/colab-badge.svg\" alt=\"Open In Colab\"/></a>"
      ]
    },
    {
      "cell_type": "code",
      "metadata": {
        "pycharm": {
          "name": "#%%\n"
        },
        "id": "txPmdPF4_m62"
      },
      "source": [
        "import pandas as pd\n",
        "import numpy as np\n",
        "from random import Random\n",
        "import inspyred\n",
        "from IPython.core.display import Image\n",
        "from inspyred.ec import Individual"
      ],
      "execution_count": null,
      "outputs": []
    },
    {
      "cell_type": "markdown",
      "metadata": {
        "collapsed": true,
        "pycharm": {
          "name": "#%% md\n"
        },
        "id": "yzEfIlWG_m65"
      },
      "source": [
        "### Het Handelsreizigerprobleem (Traveling Salesman Problem)\n",
        "Een handelsreiziger wil besparen op zijn vervoerskosten. Hij moet maandelijks steden a,b,c,d en e eenmaal bezoeken. Wanneer hij in een bepaalde stad vertrekt, moet hij daar ook terug uit komen."
      ]
    },
    {
      "cell_type": "code",
      "metadata": {
        "pycharm": {
          "name": "#%%\n"
        },
        "id": "4FqhREvS_m65",
        "outputId": "ff6acbb0-4fc4-4eef-da2d-12297e030f21"
      },
      "source": [
        "Image('../images/tsp.png')"
      ],
      "execution_count": null,
      "outputs": [
        {
          "output_type": "execute_result",
          "data": {
            "image/png": "[encoded data removed]",
            "text/plain": [
              "<IPython.core.display.Image object>"
            ]
          },
          "metadata": {
            "tags": []
          },
          "execution_count": 3
        }
      ]
    },
    {
      "cell_type": "markdown",
      "metadata": {
        "collapsed": false,
        "pycharm": {
          "name": "#%% md\n"
        },
        "id": "Q1DVJI_R_m66"
      },
      "source": [
        "Hij zoekt de meest optimale weg om dit te doen.  In steden.csv vind je een tabel met de afstanden tussen deze steden, lees dit in met Pandas."
      ]
    },
    {
      "cell_type": "code",
      "metadata": {
        "pycharm": {
          "name": "#%%\n"
        },
        "id": "UvgGvH1A_m67",
        "outputId": "3f72921b-07ab-4e0c-e943-fb252f7a2650"
      },
      "source": [
        "steden = pd.read_csv('../datasets/steden.csv')\n",
        "steden.index = steden.columns\n",
        "steden"
      ],
      "execution_count": null,
      "outputs": [
        {
          "output_type": "execute_result",
          "data": {
            "text/plain": [
              "     a    b    c    d    e\n",
              "a    0  100  125  100   75\n",
              "b  100    0   50   75  125\n",
              "c  125   50    0  100  125\n",
              "d  100   75  100    0   50\n",
              "e   75  125  125   50    0"
            ],
            "text/html": [
              "<div>\n",
              "<style scoped>\n",
              "    .dataframe tbody tr th:only-of-type {\n",
              "        vertical-align: middle;\n",
              "    }\n",
              "\n",
              "    .dataframe tbody tr th {\n",
              "        vertical-align: top;\n",
              "    }\n",
              "\n",
              "    .dataframe thead th {\n",
              "        text-align: right;\n",
              "    }\n",
              "</style>\n",
              "<table border=\"1\" class=\"dataframe\">\n",
              "  <thead>\n",
              "    <tr style=\"text-align: right;\">\n",
              "      <th></th>\n",
              "      <th>a</th>\n",
              "      <th>b</th>\n",
              "      <th>c</th>\n",
              "      <th>d</th>\n",
              "      <th>e</th>\n",
              "    </tr>\n",
              "  </thead>\n",
              "  <tbody>\n",
              "    <tr>\n",
              "      <th>a</th>\n",
              "      <td>0</td>\n",
              "      <td>100</td>\n",
              "      <td>125</td>\n",
              "      <td>100</td>\n",
              "      <td>75</td>\n",
              "    </tr>\n",
              "    <tr>\n",
              "      <th>b</th>\n",
              "      <td>100</td>\n",
              "      <td>0</td>\n",
              "      <td>50</td>\n",
              "      <td>75</td>\n",
              "      <td>125</td>\n",
              "    </tr>\n",
              "    <tr>\n",
              "      <th>c</th>\n",
              "      <td>125</td>\n",
              "      <td>50</td>\n",
              "      <td>0</td>\n",
              "      <td>100</td>\n",
              "      <td>125</td>\n",
              "    </tr>\n",
              "    <tr>\n",
              "      <th>d</th>\n",
              "      <td>100</td>\n",
              "      <td>75</td>\n",
              "      <td>100</td>\n",
              "      <td>0</td>\n",
              "      <td>50</td>\n",
              "    </tr>\n",
              "    <tr>\n",
              "      <th>e</th>\n",
              "      <td>75</td>\n",
              "      <td>125</td>\n",
              "      <td>125</td>\n",
              "      <td>50</td>\n",
              "      <td>0</td>\n",
              "    </tr>\n",
              "  </tbody>\n",
              "</table>\n",
              "</div>"
            ]
          },
          "metadata": {
            "tags": []
          },
          "execution_count": 8
        }
      ]
    },
    {
      "cell_type": "markdown",
      "metadata": {
        "collapsed": false,
        "id": "UWhOa98e_m67"
      },
      "source": [
        "Schrijf een functie <code>afstand</code> die voor een route, een rij van 5 indices dus, kan berekenen wat de afstand is voor die combinatie, bijvoorbeeld de route [0,1,2,3,4] gaat van a naar b naar c naar d naar e naar a.\n",
        "```python\n",
        "def afstand(route: [int]) -> float:\n",
        "    pass # hier komt jouw code\n",
        "```\n",
        "Je kunt dit als volgt aanpakken:\n",
        "* creër een kopie van de route waarbij alle indices een plaats opschuift (zoek in Numpy voor een functie)\n",
        "* zip de twee rijen aan elkaar tot een rij van tuples (zip functie gebruiken), zodat je dit krijgt\n",
        "[(0, 1), (1, 2), (2, 3), (3, 4), (4, 0)]\n",
        "* zoek afstanden op in afstandstabel voor de tuples, maak een lijst en sommeer."
      ]
    },
    {
      "cell_type": "code",
      "metadata": {
        "pycharm": {
          "name": "#%%\n"
        },
        "id": "hXjqqAqI_m68"
      },
      "source": [
        "def afstand(route: [int]) -> float:\n",
        "    return sum(steden.iloc[i,j] for i,j in zip(route, np.roll(route, -1)))"
      ],
      "execution_count": null,
      "outputs": []
    },
    {
      "cell_type": "markdown",
      "metadata": {
        "collapsed": false,
        "id": "bWSyyUzy_m68"
      },
      "source": [
        "Schrijf een functie <code>generate</code> die één kandidaat-oplossing voor een route kan genereren.\n",
        "Hierbij moet je opletten dat je enkel een **geldige routes** genereert. Een route is een permutatie van $n$ getallen, met $n$ het aantal steden. Zoek eens in Numpy library naar een oplossing.\n",
        "\n",
        "Deze functie **moet** een gewone Python-lijst teruggeven en geen Numpy array. Indien nodig omzetten naar een Python-lijst of type hinting toevoegen (-> []) aan functie definitie.\n",
        "\n",
        "De functie moet ook volgende argumenten (ook al gebruik je ze niet allemaal) en return type hebben:\n",
        "\n",
        "```python\n",
        "def generate(random = None, args = {}) -> []:\n",
        "    # je kan args dictionary gebruiken om parameters door te geven naar generate (zie verder)\n",
        "    n_cities = args.get('n_cities', 5)\n",
        "    # hier komt jouw code\n",
        "```"
      ]
    },
    {
      "cell_type": "code",
      "metadata": {
        "pycharm": {
          "name": "#%%\n"
        },
        "id": "g8HwnU5c_m69"
      },
      "source": [
        "def generate(random = None, args = {}) -> []:\n",
        "    n_cities = args.get('n_cities', 5)\n",
        "    return np.random.permutation(n_cities)"
      ],
      "execution_count": null,
      "outputs": []
    },
    {
      "cell_type": "code",
      "metadata": {
        "pycharm": {
          "name": "#%%\n"
        },
        "id": "vyS9L3DH_m69",
        "outputId": "2a5e603a-94d4-4cac-d186-ef617a86f446"
      },
      "source": [
        "generate(args = {'n_cities' : 10})"
      ],
      "execution_count": null,
      "outputs": [
        {
          "output_type": "execute_result",
          "data": {
            "text/plain": [
              "array([3, 1, 0, 4, 2])"
            ]
          },
          "metadata": {
            "tags": []
          },
          "execution_count": 33
        }
      ]
    },
    {
      "cell_type": "markdown",
      "metadata": {
        "collapsed": false,
        "id": "ip5xRVOs_m69"
      },
      "source": [
        "Schrijf een functie <code>evaluate</code> die één kandidaat-oplossing gegeneerd door <code>generate</code> kan evalueren.\n",
        "\n",
        "De functie moet volgende argumenten hebben (ook al gebruik je ze niet allemaal):\n",
        "```python\n",
        "def evaluate(candidates, args):\n",
        "    pass # hier komt jouw code\n",
        "```"
      ]
    },
    {
      "cell_type": "code",
      "metadata": {
        "pycharm": {
          "name": "#%%\n"
        },
        "id": "6OWJ-wuI_m6-"
      },
      "source": [
        "def evaluate(candidates, args = {}):\n",
        "    fitness = []\n",
        "    for route in candidates:\n",
        "        fitness.append(afstand(route))\n",
        "    return fitness"
      ],
      "execution_count": null,
      "outputs": []
    },
    {
      "cell_type": "markdown",
      "metadata": {
        "collapsed": false,
        "id": "iOtOPEBD_m6-"
      },
      "source": [
        "Gebruik nu een Genetic Algorithm uit de<code>inpyred</code>-library om de meest optimale oplossing te vinden. Je kan als extra parameter aan de <code>evolve</code>-methode bijvoorbeeld, <code>n_cities = steden.shape[0]</code> meegeven om je oplossing meer algemeen te maken.\n",
        "\n",
        "Vergeet ook niet van het mee te geven dat het hier om een minimalisatie gaat. Sorteer omgekeerd en print alle oplossingen uit."
      ]
    },
    {
      "cell_type": "code",
      "metadata": {
        "pycharm": {
          "name": "#%%\n"
        },
        "id": "qxpPdrW2_m6-",
        "outputId": "46f9a0d4-ca58-43f1-cc9e-c58684b114eb"
      },
      "source": [
        "rand = Random()\n",
        "ga = inspyred.ec.GA(rand)\n",
        "population: [Individual] = ga.evolve(\n",
        "    generator=generate,\n",
        "    evaluator=evaluate,\n",
        "    pop_size=100,\n",
        "    maximize=False,\n",
        "    bounder=inspyred.ec.Bounder(0, steden.shape[0]),\n",
        "    max_evaluations=1000,\n",
        "    mutation_rate=0.25,\n",
        "    n_cities = steden.shape[0])\n",
        "\n",
        "# Sort and print the best individual, who will be at index 0.\n",
        "population.sort(reverse=True)\n",
        "for solution in population:\n",
        "    print('{} -> {}'.format(solution.candidate, afstand(solution.candidate)))"
      ],
      "execution_count": null,
      "outputs": [
        {
          "output_type": "stream",
          "text": [
            "[3 4 0 2 1] -> 375\n",
            "[3 2 1 0 4] -> 375\n",
            "[4 3 1 2 0] -> 375\n",
            "[0 1 2 3 4] -> 375\n",
            "[3 1 2 0 4] -> 375\n",
            "[3 2 1 0 4] -> 375\n",
            "[3 4 0 2 1] -> 375\n",
            "[4 0 2 1 3] -> 375\n",
            "[1 3 4 0 2] -> 375\n",
            "[4 3 2 1 0] -> 375\n",
            "[0 2 1 3 4] -> 375\n",
            "[1 0 4 3 2] -> 375\n",
            "[0 4 3 2 1] -> 375\n",
            "[1 2 3 4 0] -> 375\n",
            "[3 4 0 1 2] -> 375\n",
            "[4 0 2 1 3] -> 375\n",
            "[3 1 2 0 4] -> 375\n",
            "[2 1 3 4 0] -> 375\n",
            "[0 2 1 3 4] -> 375\n",
            "[0 4 3 1 2] -> 375\n",
            "[4 3 2 1 0] -> 375\n",
            "[1 0 3 4 2] -> 425\n",
            "[3 0 1 2 4] -> 425\n",
            "[1 2 4 3 0] -> 425\n",
            "[1 3 0 4 2] -> 425\n",
            "[0 3 4 2 1] -> 425\n",
            "[4 0 3 1 2] -> 425\n",
            "[4 2 1 0 3] -> 425\n",
            "[3 4 2 1 0] -> 425\n",
            "[4 2 1 3 0] -> 425\n",
            "[1 3 0 4 2] -> 425\n",
            "[0 3 1 2 4] -> 425\n",
            "[3 1 2 4 0] -> 425\n",
            "[3 0 4 2 1] -> 425\n",
            "[2 1 3 0 4] -> 425\n",
            "[2 1 0 3 4] -> 425\n",
            "[0 1 2 4 3] -> 425\n",
            "[4 2 1 0 3] -> 425\n",
            "[4 0 3 2 1] -> 450\n",
            "[2 1 4 3 0] -> 450\n",
            "[2 0 3 4 1] -> 450\n",
            "[3 0 2 1 4] -> 450\n",
            "[1 4 0 3 2] -> 450\n",
            "[3 0 2 1 4] -> 450\n",
            "[0 3 4 1 2] -> 450\n",
            "[2 1 4 3 0] -> 450\n",
            "[0 4 1 2 3] -> 450\n",
            "[4 0 3 2 1] -> 450\n",
            "[4 1 2 0 3] -> 450\n",
            "[4 1 2 0 3] -> 450\n",
            "[2 1 4 0 3] -> 450\n",
            "[2 4 3 1 0] -> 475\n",
            "[1 0 4 2 3] -> 475\n",
            "[1 3 2 4 0] -> 475\n",
            "[4 2 0 1 3] -> 475\n",
            "[4 0 1 3 2] -> 475\n",
            "[4 2 0 1 3] -> 475\n",
            "[2 0 1 3 4] -> 475\n",
            "[4 3 1 0 2] -> 475\n",
            "[0 2 4 3 1] -> 475\n",
            "[4 3 1 0 2] -> 475\n",
            "[4 2 3 1 0] -> 475\n",
            "[0 1 3 2 4] -> 475\n",
            "[4 3 1 0 2] -> 475\n",
            "[1 0 2 4 3] -> 475\n",
            "[4 2 3 1 0] -> 475\n",
            "[1 0 4 2 3] -> 475\n",
            "[2 0 4 1 3] -> 500\n",
            "[0 4 1 3 2] -> 500\n",
            "[4 1 0 2 3] -> 500\n",
            "[3 2 0 4 1] -> 500\n",
            "[2 3 1 4 0] -> 500\n",
            "[1 4 0 2 3] -> 500\n",
            "[2 0 4 1 3] -> 500\n",
            "[1 4 0 2 3] -> 500\n",
            "[4 3 2 0 1] -> 500\n",
            "[2 3 4 1 0] -> 500\n",
            "[0 1 4 3 2] -> 500\n",
            "[1 3 2 0 4] -> 500\n",
            "[0 2 3 1 4] -> 500\n",
            "[1 4 0 2 3] -> 500\n",
            "[2 3 1 4 0] -> 500\n",
            "[3 1 4 0 2] -> 500\n",
            "[4 1 3 0 2] -> 550\n",
            "[3 2 4 1 0] -> 550\n",
            "[4 1 3 0 2] -> 550\n",
            "[4 2 3 0 1] -> 550\n",
            "[2 4 1 0 3] -> 550\n",
            "[3 0 1 4 2] -> 550\n",
            "[4 2 0 3 1] -> 550\n",
            "[2 4 1 3 0] -> 550\n",
            "[0 1 4 2 3] -> 550\n",
            "[1 3 0 2 4] -> 550\n",
            "[2 4 1 3 0] -> 550\n",
            "[4 2 0 3 1] -> 550\n",
            "[1 4 2 0 3] -> 550\n",
            "[3 0 2 4 1] -> 550\n",
            "[2 0 3 1 4] -> 550\n",
            "[0 3 2 4 1] -> 550\n",
            "[3 2 4 1 0] -> 550\n"
          ],
          "name": "stdout"
        }
      ]
    },
    {
      "cell_type": "code",
      "metadata": {
        "id": "i_k_uVeDBRoD",
        "outputId": "5ce4fb89-9e13-4cc1-d35b-705e2ca9e415",
        "colab": {
          "base_uri": "https://localhost:8080/"
        }
      },
      "source": [
        "print('opvulling om te kunnen afdrukken \\n\\n\\n\\n\\n\\n\\n\\n\\n\\n\\n\\n\\n\\n\\n\\n')"
      ],
      "execution_count": 1,
      "outputs": [
        {
          "output_type": "stream",
          "text": [
            "opvulling om te kunnen afdrukken \n",
            "\n",
            "\n",
            "\n",
            "\n",
            "\n",
            "\n",
            "\n",
            "\n",
            "\n",
            "\n",
            "\n",
            "\n",
            "\n",
            "\n",
            "\n",
            "\n"
          ],
          "name": "stdout"
        }
      ]
    }
  ]
}