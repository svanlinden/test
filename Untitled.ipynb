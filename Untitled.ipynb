{
  "nbformat": 4,
  "nbformat_minor": 0,
  "metadata": {
    "colab": {
      "name": "Untitled",
      "provenance": [],
      "authorship_tag": "ABX9TyN2aiNCWBG06yww5F8bw0fL",
      "include_colab_link": true
    },
    "kernelspec": {
      "name": "python3",
      "display_name": "Python 3"
    }
  },
  "cells": [
    {
      "cell_type": "markdown",
      "metadata": {
        "id": "view-in-github",
        "colab_type": "text"
      },
      "source": [
        "<a href=\"https://colab.research.google.com/github/svanlinden/test/blob/master/Untitled.ipynb\" target=\"_parent\"><img src=\"https://colab.research.google.com/assets/colab-badge.svg\" alt=\"Open In Colab\"/></a>"
      ]
    },
    {
      "cell_type": "markdown",
      "metadata": {
        "id": "oEb7_9Vee5e9"
      },
      "source": [
        "# Lineaire Discriminant Analyse gecombineerd met ROC-curve"
      ]
    },
    {
      "cell_type": "code",
      "metadata": {
        "id": "Fc5AXQqCxMpi"
      },
      "source": [
        "import pandas as pd\r\n",
        "import numpy as np\r\n",
        "from sklearn.metrics import roc_auc_score, roc_curve\r\n",
        "import matplotlib.pyplot as plt"
      ],
      "execution_count": 58,
      "outputs": []
    },
    {
      "cell_type": "code",
      "metadata": {
        "id": "EL6fSkuD25ya"
      },
      "source": [
        "def accuracy(confusion_matrix: pd.DataFrame):\r\n",
        "    return pd.DataFrame([np.sum(np.diag(confusion_matrix)) / confusion_matrix.to_numpy().sum()], index=['Total'],\r\n",
        "                        columns=['Accuracy'])\r\n",
        "\r\n",
        "\r\n",
        "def precision(confusion_matrix: pd.DataFrame, weighted=True):\r\n",
        "    precisions = pd.DataFrame(np.diag(confusion_matrix) / confusion_matrix.sum(axis=1), columns=['Precision'])\r\n",
        "    if weighted:\r\n",
        "        weights = confusion_matrix.sum(axis=1)\r\n",
        "        return pd.DataFrame([np.average(precisions, weights=weights, axis=0)],\r\n",
        "                            columns=precisions.columns, index=['Average'])\r\n",
        "    return pd.DataFrame(precisions)\r\n",
        "\r\n",
        "def recall(confusion_matrix: pd.DataFrame, weighted=True):\r\n",
        "    recall = pd.DataFrame(np.diag(confusion_matrix) / confusion_matrix.sum(axis=0), columns=['Recall'])\r\n",
        "    if weighted:\r\n",
        "        weights = confusion_matrix.sum(axis=1)\r\n",
        "        return pd.DataFrame([np.average(recall, weights=weights, axis=0)],\r\n",
        "                            columns=recall.columns, index=['Average'])\r\n",
        "    return pd.DataFrame(recall)\r\n",
        "\r\n",
        "def fmeasure(confusion_matrix: pd.DataFrame, beta=1, weighted=True):\r\n",
        "    fmeasure =((beta**2+1)*(precision(confusion_matrix, weighted=False).to_numpy() * recall(confusion_matrix, weighted=False).to_numpy()))/(beta**2 * precision(confusion_matrix, weighted=False).to_numpy() + recall(confusion_matrix, weighted=False).to_numpy())\r\n",
        "    columns = 'F' + str(beta)\r\n",
        "    fmeasure = pd.DataFrame(fmeasure, columns=[columns], index=confusion_matrix.index)\r\n",
        "    if weighted:\r\n",
        "        weights = confusion_matrix.sum(axis=1)\r\n",
        "        return pd.DataFrame([np.average(fmeasure, weights=weights, axis=0)],\r\n",
        "                            columns=fmeasure.columns, index=['Average'])\r\n",
        "    return fmeasure\r\n"
      ],
      "execution_count": 59,
      "outputs": []
    },
    {
      "cell_type": "code",
      "metadata": {
        "id": "RyBRqwxFKlIR"
      },
      "source": [
        "def plot_roc(y_true, y_score, title='ROC Curve', **kwargs):\n",
        "    if 'pos_label' in kwargs:\n",
        "        fpr, tpr, thresholds = roc_curve(y_true=y_true, y_score=y_score, pos_label=kwargs.get('pos_label'))\n",
        "        auc = roc_auc_score(y_true, y_score)\n",
        "    else:\n",
        "        fpr, tpr, thresholds = roc_curve(y_true=y_true, y_score=y_score)\n",
        "        auc = roc_auc_score(y_true, y_score)\n",
        "\n",
        "    optimal_idx = np.argmax(tpr - fpr)\n",
        "    optimal_threshold = thresholds[optimal_idx]\n",
        "\n",
        "    figsize = kwargs.get('figsize', (7, 7))\n",
        "    fig, ax = plt.subplots(1, 1, figsize=figsize)\n",
        "    ax.grid(linestyle='--')\n",
        "\n",
        "    # plot ROC curve\n",
        "    ax.plot(fpr, tpr, color='darkorange', label='AUC: {:.3f}'.format(auc))\n",
        "    ax.set_title(title)\n",
        "    ax.set_xlabel('False Positive Rate (FPR)')\n",
        "    ax.set_ylabel('True Positive Rate (TPR)')\n",
        "    ax.fill_between(fpr, tpr, alpha=0.3, color='darkorange', edgecolor='black')\n",
        "\n",
        "    # plot random classifier\n",
        "    ax.plot([0, 1], [0, 1], color='navy', lw=2, linestyle='--')\n",
        "\n",
        "    # plot optimal threshold\n",
        "    ax.scatter(fpr[optimal_idx], tpr[optimal_idx],\n",
        "               label='optimal cutoff {:.10f} op ({:.2f},{:.2f})'.format(optimal_threshold, fpr[optimal_idx],\n",
        "                                                                       tpr[optimal_idx]), color='red')\n",
        "    ax.plot([fpr[optimal_idx], fpr[optimal_idx]], [0, tpr[optimal_idx]], linestyle='--', color='red')\n",
        "    ax.plot([0, fpr[optimal_idx]], [tpr[optimal_idx], tpr[optimal_idx]], linestyle='--', color='red')\n",
        "\n",
        "    ax.legend(loc='lower right')\n",
        "    plt.show()\n"
      ],
      "execution_count": 60,
      "outputs": []
    },
    {
      "cell_type": "code",
      "metadata": {
        "colab": {
          "base_uri": "https://localhost:8080/"
        },
        "id": "9bSJd4NTe-A-",
        "outputId": "7c791fa3-dd05-4e3f-8603-7161217ae552"
      },
      "source": [
        "biopsy = pd.read_csv('biopsy.csv', sep=',')\r\n",
        "print(biopsy)"
      ],
      "execution_count": 61,
      "outputs": [
        {
          "output_type": "stream",
          "text": [
            "          ID  V1  V2  V3  V4  V5    V6  V7  V8  V9      class\n",
            "0    1000025   5   1   1   1   2   1.0   3   1   1     benign\n",
            "1    1002945   5   4   4   5   7  10.0   3   2   1     benign\n",
            "2    1015425   3   1   1   1   2   2.0   3   1   1     benign\n",
            "3    1016277   6   8   8   1   3   4.0   3   7   1     benign\n",
            "4    1017023   4   1   1   3   2   1.0   3   1   1     benign\n",
            "..       ...  ..  ..  ..  ..  ..   ...  ..  ..  ..        ...\n",
            "694   776715   3   1   1   1   3   2.0   1   1   1     benign\n",
            "695   841769   2   1   1   1   2   1.0   1   1   1     benign\n",
            "696   888820   5  10  10   3   7   3.0   8  10   2  malignant\n",
            "697   897471   4   8   6   4   3   4.0  10   6   1  malignant\n",
            "698   897471   4   8   8   5   4   5.0  10   4   1  malignant\n",
            "\n",
            "[699 rows x 11 columns]\n"
          ],
          "name": "stdout"
        }
      ]
    },
    {
      "cell_type": "code",
      "metadata": {
        "colab": {
          "base_uri": "https://localhost:8080/"
        },
        "id": "be2AHEbICGtK",
        "outputId": "c1aff28d-bf51-48be-fa50-27f7dadd3eb6"
      },
      "source": [
        "from sklearn.discriminant_analysis import LinearDiscriminantAnalysis\r\n",
        "\r\n",
        "X = biopsy[['V1', 'V2']]\r\n",
        "y = biopsy['class']\r\n",
        "lda = LinearDiscriminantAnalysis()\r\n",
        "lda.fit(X,y)"
      ],
      "execution_count": 68,
      "outputs": [
        {
          "output_type": "execute_result",
          "data": {
            "text/plain": [
              "LinearDiscriminantAnalysis(n_components=None, priors=None, shrinkage=None,\n",
              "                           solver='svd', store_covariance=False, tol=0.0001)"
            ]
          },
          "metadata": {
            "tags": []
          },
          "execution_count": 68
        }
      ]
    },
    {
      "cell_type": "code",
      "metadata": {
        "colab": {
          "base_uri": "https://localhost:8080/",
          "height": 458
        },
        "id": "v05E_OAIawYu",
        "outputId": "3b688f78-9a55-4179-d45f-a91e4af92a88"
      },
      "source": [
        "y_true = y\r\n",
        "y_score = lda.predict_proba(X)[:,0]\r\n",
        "\r\n",
        "plot_roc(y_true, y_score, pos_label='benign')\r\n"
      ],
      "execution_count": 69,
      "outputs": [
        {
          "output_type": "display_data",
          "data": {
            "image/png": "[encoded data removed]",
            "text/plain": [
              "<Figure size 504x504 with 1 Axes>"
            ]
          },
          "metadata": {
            "tags": [],
            "needs_background": "light"
          }
        }
      ]
    },
    {
      "cell_type": "code",
      "metadata": {
        "colab": {
          "base_uri": "https://localhost:8080/"
        },
        "id": "tCU0NLPag_cB",
        "outputId": "20a5b838-ed8b-4b29-e02b-f069813d2c81"
      },
      "source": [
        "print(lda.predict_proba(X)[0])\r\n",
        "print(lda.predict_proba(X)[1])\r\n",
        "print(lda.predict_proba(X))\r\n",
        "# dus we moeten zoals in het education voorbeeld dataframe maken met predictproba van benign in kolom, en predictproba van malignant in een kolom en dan laatste kolom is target kolom\r\n",
        "# genaamd class in dit voorbeeld.\r\n",
        "scoretabel = pd.DataFrame(zip(lda.predict_proba(X)[:,0], lda.predict_proba(X)[:,1], biopsy['class']))\r\n",
        "columns = ['benign', 'malignant', 'y_true']\r\n",
        "scoretabel.columns = columns \r\n",
        "print(scoretabel)"
      ],
      "execution_count": 70,
      "outputs": [
        {
          "output_type": "stream",
          "text": [
            "[0.99497514 0.00502486]\n",
            "[0.65254527 0.34745473]\n",
            "[[9.94975141e-01 5.02485874e-03]\n",
            " [6.52545269e-01 3.47454731e-01]\n",
            " [9.99150287e-01 8.49712908e-04]\n",
            " ...\n",
            " [1.68922356e-04 9.99831078e-01]\n",
            " [9.10487409e-03 9.90895126e-01]\n",
            " [9.10487409e-03 9.90895126e-01]]\n",
            "       benign  malignant     y_true\n",
            "0    0.994975   0.005025     benign\n",
            "1    0.652545   0.347455     benign\n",
            "2    0.999150   0.000850     benign\n",
            "3    0.001545   0.998455     benign\n",
            "4    0.997932   0.002068     benign\n",
            "..        ...        ...        ...\n",
            "694  0.999150   0.000850     benign\n",
            "695  0.999651   0.000349     benign\n",
            "696  0.000169   0.999831  malignant\n",
            "697  0.009105   0.990895  malignant\n",
            "698  0.009105   0.990895  malignant\n",
            "\n",
            "[699 rows x 3 columns]\n"
          ],
          "name": "stdout"
        }
      ]
    },
    {
      "cell_type": "code",
      "metadata": {
        "colab": {
          "base_uri": "https://localhost:8080/"
        },
        "id": "3c6tV_h-tgyD",
        "outputId": "552d72d5-406f-4edd-9e0a-9217ddf72353"
      },
      "source": [
        "voorspeld = pd.Series(lda.predict(X), name='voorspeld')\r\n",
        "werkelijk = biopsy['class'].rename('werkelijk')\r\n",
        "cm = pd.crosstab(voorspeld, werkelijk)\r\n",
        "print(cm)\r\n",
        "print(accuracy(cm))\r\n",
        "print()\r\n",
        "print(precision(cm, weighted=False))\r\n",
        "print()\r\n",
        "print(recall(cm, weighted=False))\r\n",
        "print()\r\n",
        "print(fmeasure(cm, weighted=False))"
      ],
      "execution_count": 71,
      "outputs": [
        {
          "output_type": "stream",
          "text": [
            "werkelijk  benign  malignant\n",
            "voorspeld                   \n",
            "benign        450         40\n",
            "malignant       8        201\n",
            "       Accuracy\n",
            "Total   0.93133\n",
            "\n",
            "           Precision\n",
            "voorspeld           \n",
            "benign      0.918367\n",
            "malignant   0.961722\n",
            "\n",
            "             Recall\n",
            "werkelijk          \n",
            "benign     0.982533\n",
            "malignant  0.834025\n",
            "\n",
            "                 F1\n",
            "voorspeld          \n",
            "benign     0.949367\n",
            "malignant  0.893333\n"
          ],
          "name": "stdout"
        }
      ]
    },
    {
      "cell_type": "code",
      "metadata": {
        "colab": {
          "base_uri": "https://localhost:8080/"
        },
        "id": "biLv-v-EuR2z",
        "outputId": "229670d3-bc48-4eed-8c08-300688600c63"
      },
      "source": [
        "scoretabel['y_pred'] = scoretabel.apply(lambda row: 'benign' if row['benign'] > 0.95 else 'malignant', axis=1)\r\n",
        "print(scoretabel)"
      ],
      "execution_count": 72,
      "outputs": [
        {
          "output_type": "stream",
          "text": [
            "       benign  malignant     y_true     y_pred\n",
            "0    0.994975   0.005025     benign     benign\n",
            "1    0.652545   0.347455     benign  malignant\n",
            "2    0.999150   0.000850     benign     benign\n",
            "3    0.001545   0.998455     benign  malignant\n",
            "4    0.997932   0.002068     benign     benign\n",
            "..        ...        ...        ...        ...\n",
            "694  0.999150   0.000850     benign     benign\n",
            "695  0.999651   0.000349     benign     benign\n",
            "696  0.000169   0.999831  malignant  malignant\n",
            "697  0.009105   0.990895  malignant  malignant\n",
            "698  0.009105   0.990895  malignant  malignant\n",
            "\n",
            "[699 rows x 4 columns]\n"
          ],
          "name": "stdout"
        }
      ]
    },
    {
      "cell_type": "code",
      "metadata": {
        "colab": {
          "base_uri": "https://localhost:8080/"
        },
        "id": "y2htYRDYuXqm",
        "outputId": "83e9bc91-37dc-48cc-8372-7e98b355116d"
      },
      "source": [
        "voorspeld = scoretabel['y_pred'].rename('voorspeld')\r\n",
        "werkelijk = biopsy['class'].rename('werkelijk')\r\n",
        "cm = pd.crosstab(voorspeld, werkelijk)\r\n",
        "print(cm)\r\n",
        "print(accuracy(cm))\r\n",
        "print()\r\n",
        "print(precision(cm, weighted=False))\r\n",
        "print()\r\n",
        "print(recall(cm, weighted=False))\r\n",
        "print()\r\n",
        "print(fmeasure(cm, weighted=False))"
      ],
      "execution_count": 73,
      "outputs": [
        {
          "output_type": "stream",
          "text": [
            "werkelijk  benign  malignant\n",
            "voorspeld                   \n",
            "benign        429         10\n",
            "malignant      29        231\n",
            "       Accuracy\n",
            "Total  0.944206\n",
            "\n",
            "           Precision\n",
            "voorspeld           \n",
            "benign      0.977221\n",
            "malignant   0.888462\n",
            "\n",
            "             Recall\n",
            "werkelijk          \n",
            "benign     0.936681\n",
            "malignant  0.958506\n",
            "\n",
            "                 F1\n",
            "voorspeld          \n",
            "benign     0.956522\n",
            "malignant  0.922156\n"
          ],
          "name": "stdout"
        }
      ]
    }
  ]
}