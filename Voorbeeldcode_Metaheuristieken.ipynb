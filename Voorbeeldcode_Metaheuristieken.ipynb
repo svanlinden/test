{
  "nbformat": 4,
  "nbformat_minor": 0,
  "metadata": {
    "colab": {
      "name": "Voorbeeldcode Metaheuristieken.ipynb",
      "provenance": [],
      "include_colab_link": true
    },
    "kernelspec": {
      "name": "python3",
      "display_name": "Python 3"
    }
  },
  "cells": [
    {
      "cell_type": "markdown",
      "metadata": {
        "id": "view-in-github",
        "colab_type": "text"
      },
      "source": [
        "<a href=\"https://colab.research.google.com/github/svanlinden/test/blob/master/Voorbeeldcode_Metaheuristieken.ipynb\" target=\"_parent\"><img src=\"https://colab.research.google.com/assets/colab-badge.svg\" alt=\"Open In Colab\"/></a>"
      ]
    },
    {
      "cell_type": "code",
      "metadata": {
        "colab": {
          "base_uri": "https://localhost:8080/"
        },
        "id": "B4pvhMDrdjth",
        "outputId": "9b229a43-ae4f-4a0a-f79d-02da3e7486de"
      },
      "source": [
        "!pip install inspyred"
      ],
      "execution_count": null,
      "outputs": [
        {
          "output_type": "stream",
          "text": [
            "Collecting inspyred\n",
            "\u001b[?25l  Downloading https://files.pythonhosted.org/packages/ec/83/95dc9cc74d802e52b6f33d43de791dcfb376b187269757cf3c945ac7e0bb/inspyred-1.0.1-py2.py3-none-any.whl (88kB)\n",
            "\r\u001b[K     |███▊                            | 10kB 15.1MB/s eta 0:00:01\r\u001b[K     |███████▍                        | 20kB 20.7MB/s eta 0:00:01\r\u001b[K     |███████████                     | 30kB 11.6MB/s eta 0:00:01\r\u001b[K     |██████████████▊                 | 40kB 9.0MB/s eta 0:00:01\r\u001b[K     |██████████████████▌             | 51kB 4.5MB/s eta 0:00:01\r\u001b[K     |██████████████████████▏         | 61kB 5.0MB/s eta 0:00:01\r\u001b[K     |█████████████████████████▉      | 71kB 5.1MB/s eta 0:00:01\r\u001b[K     |█████████████████████████████▌  | 81kB 5.6MB/s eta 0:00:01\r\u001b[K     |████████████████████████████████| 92kB 3.8MB/s \n",
            "\u001b[?25hInstalling collected packages: inspyred\n",
            "Successfully installed inspyred-1.0.1\n"
          ],
          "name": "stdout"
        }
      ]
    },
    {
      "cell_type": "markdown",
      "metadata": {
        "id": "NAfxIYyMdvmy"
      },
      "source": [
        "# Genetische algoritmen"
      ]
    },
    {
      "cell_type": "markdown",
      "metadata": {
        "id": "fLcZzz6cebLw"
      },
      "source": [
        "## 1. Probleem voorstellen als een chromosoom\r\n",
        "\r\n",
        "$(\\bar a \\vee c) \\land (\\bar a \\vee c \\vee \\bar e) \\land (\\bar b \\vee c \\vee d \\vee \\bar e) \\land (a \\vee \\bar b \\vee c) \\land (\\bar e \\vee f)$\r\n"
      ]
    },
    {
      "cell_type": "code",
      "metadata": {
        "colab": {
          "base_uri": "https://localhost:8080/",
          "height": 419
        },
        "id": "FIBghTYUeYRm",
        "outputId": "0f489ded-d0bc-4423-bffb-a6d0e60343c6"
      },
      "source": [
        "import itertools\r\n",
        "import pandas as pd\r\n",
        "\r\n",
        "def expand_grid(data_dict):\r\n",
        "    \"\"\"Create a dataframe from every combination of given values.\"\"\"\r\n",
        "    rows = itertools.product(*data_dict.values())\r\n",
        "    return pd.DataFrame.from_records(rows, columns=data_dict.keys())\r\n",
        "\r\n",
        "dictionary = {'a': [0, 1], 'b': [0, 1], 'c': [0, 1], 'd': [0, 1], 'e': [0, 1], 'f' : [0 , 1]}\r\n",
        "\r\n",
        "table = expand_grid(dictionary)\r\n",
        "table"
      ],
      "execution_count": null,
      "outputs": [
        {
          "output_type": "execute_result",
          "data": {
            "text/html": [
              "<div>\n",
              "<style scoped>\n",
              "    .dataframe tbody tr th:only-of-type {\n",
              "        vertical-align: middle;\n",
              "    }\n",
              "\n",
              "    .dataframe tbody tr th {\n",
              "        vertical-align: top;\n",
              "    }\n",
              "\n",
              "    .dataframe thead th {\n",
              "        text-align: right;\n",
              "    }\n",
              "</style>\n",
              "<table border=\"1\" class=\"dataframe\">\n",
              "  <thead>\n",
              "    <tr style=\"text-align: right;\">\n",
              "      <th></th>\n",
              "      <th>a</th>\n",
              "      <th>b</th>\n",
              "      <th>c</th>\n",
              "      <th>d</th>\n",
              "      <th>e</th>\n",
              "      <th>f</th>\n",
              "    </tr>\n",
              "  </thead>\n",
              "  <tbody>\n",
              "    <tr>\n",
              "      <th>0</th>\n",
              "      <td>0</td>\n",
              "      <td>0</td>\n",
              "      <td>0</td>\n",
              "      <td>0</td>\n",
              "      <td>0</td>\n",
              "      <td>0</td>\n",
              "    </tr>\n",
              "    <tr>\n",
              "      <th>1</th>\n",
              "      <td>0</td>\n",
              "      <td>0</td>\n",
              "      <td>0</td>\n",
              "      <td>0</td>\n",
              "      <td>0</td>\n",
              "      <td>1</td>\n",
              "    </tr>\n",
              "    <tr>\n",
              "      <th>2</th>\n",
              "      <td>0</td>\n",
              "      <td>0</td>\n",
              "      <td>0</td>\n",
              "      <td>0</td>\n",
              "      <td>1</td>\n",
              "      <td>0</td>\n",
              "    </tr>\n",
              "    <tr>\n",
              "      <th>3</th>\n",
              "      <td>0</td>\n",
              "      <td>0</td>\n",
              "      <td>0</td>\n",
              "      <td>0</td>\n",
              "      <td>1</td>\n",
              "      <td>1</td>\n",
              "    </tr>\n",
              "    <tr>\n",
              "      <th>4</th>\n",
              "      <td>0</td>\n",
              "      <td>0</td>\n",
              "      <td>0</td>\n",
              "      <td>1</td>\n",
              "      <td>0</td>\n",
              "      <td>0</td>\n",
              "    </tr>\n",
              "    <tr>\n",
              "      <th>...</th>\n",
              "      <td>...</td>\n",
              "      <td>...</td>\n",
              "      <td>...</td>\n",
              "      <td>...</td>\n",
              "      <td>...</td>\n",
              "      <td>...</td>\n",
              "    </tr>\n",
              "    <tr>\n",
              "      <th>59</th>\n",
              "      <td>1</td>\n",
              "      <td>1</td>\n",
              "      <td>1</td>\n",
              "      <td>0</td>\n",
              "      <td>1</td>\n",
              "      <td>1</td>\n",
              "    </tr>\n",
              "    <tr>\n",
              "      <th>60</th>\n",
              "      <td>1</td>\n",
              "      <td>1</td>\n",
              "      <td>1</td>\n",
              "      <td>1</td>\n",
              "      <td>0</td>\n",
              "      <td>0</td>\n",
              "    </tr>\n",
              "    <tr>\n",
              "      <th>61</th>\n",
              "      <td>1</td>\n",
              "      <td>1</td>\n",
              "      <td>1</td>\n",
              "      <td>1</td>\n",
              "      <td>0</td>\n",
              "      <td>1</td>\n",
              "    </tr>\n",
              "    <tr>\n",
              "      <th>62</th>\n",
              "      <td>1</td>\n",
              "      <td>1</td>\n",
              "      <td>1</td>\n",
              "      <td>1</td>\n",
              "      <td>1</td>\n",
              "      <td>0</td>\n",
              "    </tr>\n",
              "    <tr>\n",
              "      <th>63</th>\n",
              "      <td>1</td>\n",
              "      <td>1</td>\n",
              "      <td>1</td>\n",
              "      <td>1</td>\n",
              "      <td>1</td>\n",
              "      <td>1</td>\n",
              "    </tr>\n",
              "  </tbody>\n",
              "</table>\n",
              "<p>64 rows × 6 columns</p>\n",
              "</div>"
            ],
            "text/plain": [
              "    a  b  c  d  e  f\n",
              "0   0  0  0  0  0  0\n",
              "1   0  0  0  0  0  1\n",
              "2   0  0  0  0  1  0\n",
              "3   0  0  0  0  1  1\n",
              "4   0  0  0  1  0  0\n",
              ".. .. .. .. .. .. ..\n",
              "59  1  1  1  0  1  1\n",
              "60  1  1  1  1  0  0\n",
              "61  1  1  1  1  0  1\n",
              "62  1  1  1  1  1  0\n",
              "63  1  1  1  1  1  1\n",
              "\n",
              "[64 rows x 6 columns]"
            ]
          },
          "metadata": {
            "tags": []
          },
          "execution_count": 2
        }
      ]
    },
    {
      "cell_type": "markdown",
      "metadata": {
        "id": "d8dY23Vxe3NA"
      },
      "source": [
        "## 2. Fitnessformule schrijven (objective function)"
      ]
    },
    {
      "cell_type": "code",
      "metadata": {
        "id": "te1V90nce8Ey"
      },
      "source": [
        "def formule(variables : [bool]):\r\n",
        "    a, b, c, d, e, f = variables\r\n",
        "    p1 = not a or c\r\n",
        "    p2 = not a or c or not e\r\n",
        "    p3 = not b or c or d or not e\r\n",
        "    p4 = a or not b or c\r\n",
        "    p5 = not e or f\r\n",
        "    return bool(p1 and p2 and p3 and p4 and p5)\r\n"
      ],
      "execution_count": null,
      "outputs": []
    },
    {
      "cell_type": "code",
      "metadata": {
        "colab": {
          "base_uri": "https://localhost:8080/"
        },
        "id": "y_dFWhX6MQ-8",
        "outputId": "edbebf62-9e0b-438e-a09d-64adc0ddf5fa"
      },
      "source": [
        "formule([True, True, True, True, True, True])"
      ],
      "execution_count": null,
      "outputs": [
        {
          "output_type": "execute_result",
          "data": {
            "text/plain": [
              "True"
            ]
          },
          "metadata": {
            "tags": []
          },
          "execution_count": 6
        }
      ]
    },
    {
      "cell_type": "code",
      "metadata": {
        "colab": {
          "base_uri": "https://localhost:8080/"
        },
        "id": "yxM3MXEdfQ00",
        "outputId": "7d714e25-ba1c-40e7-dc86-54bbc8e2158f"
      },
      "source": [
        "table.apply(formule, axis=1)"
      ],
      "execution_count": null,
      "outputs": [
        {
          "output_type": "execute_result",
          "data": {
            "text/plain": [
              "0      True\n",
              "1      True\n",
              "2     False\n",
              "3      True\n",
              "4      True\n",
              "      ...  \n",
              "59     True\n",
              "60     True\n",
              "61     True\n",
              "62    False\n",
              "63     True\n",
              "Length: 64, dtype: bool"
            ]
          },
          "metadata": {
            "tags": []
          },
          "execution_count": 7
        }
      ]
    },
    {
      "cell_type": "code",
      "metadata": {
        "id": "R4mzo43sf4lW"
      },
      "source": [
        "def formule_fitness(variabeles : [bool]):\r\n",
        "    a, b, c, d, e, f = variabeles\r\n",
        "    p1 = not a or c\r\n",
        "    p2 = not a or c or not e\r\n",
        "    p3 = not b or c or d or not e\r\n",
        "    p4 = a or not b or c\r\n",
        "    p5 = not e or f\r\n",
        "    return sum([p1, p2, p3, p4, p5])"
      ],
      "execution_count": null,
      "outputs": []
    },
    {
      "cell_type": "code",
      "metadata": {
        "colab": {
          "base_uri": "https://localhost:8080/"
        },
        "id": "DZLnb1q_M8-u",
        "outputId": "d2e207e2-f49a-48bb-9840-cee5ebdc9dfb"
      },
      "source": [
        "formule_fitness([False, True , False, False, True, False])"
      ],
      "execution_count": null,
      "outputs": [
        {
          "output_type": "execute_result",
          "data": {
            "text/plain": [
              "2"
            ]
          },
          "metadata": {
            "tags": []
          },
          "execution_count": 11
        }
      ]
    },
    {
      "cell_type": "code",
      "metadata": {
        "colab": {
          "base_uri": "https://localhost:8080/",
          "height": 419
        },
        "id": "Vjuwkk_df6Q2",
        "outputId": "9265eb89-c55c-4e8a-d472-a9a30238d0c9"
      },
      "source": [
        "pd.concat([table, pd.Series(table.apply(formule_fitness, axis=1),name='fitness')],axis=1)"
      ],
      "execution_count": null,
      "outputs": [
        {
          "output_type": "execute_result",
          "data": {
            "text/html": [
              "<div>\n",
              "<style scoped>\n",
              "    .dataframe tbody tr th:only-of-type {\n",
              "        vertical-align: middle;\n",
              "    }\n",
              "\n",
              "    .dataframe tbody tr th {\n",
              "        vertical-align: top;\n",
              "    }\n",
              "\n",
              "    .dataframe thead th {\n",
              "        text-align: right;\n",
              "    }\n",
              "</style>\n",
              "<table border=\"1\" class=\"dataframe\">\n",
              "  <thead>\n",
              "    <tr style=\"text-align: right;\">\n",
              "      <th></th>\n",
              "      <th>a</th>\n",
              "      <th>b</th>\n",
              "      <th>c</th>\n",
              "      <th>d</th>\n",
              "      <th>e</th>\n",
              "      <th>f</th>\n",
              "      <th>fitness</th>\n",
              "    </tr>\n",
              "  </thead>\n",
              "  <tbody>\n",
              "    <tr>\n",
              "      <th>0</th>\n",
              "      <td>0</td>\n",
              "      <td>0</td>\n",
              "      <td>0</td>\n",
              "      <td>0</td>\n",
              "      <td>0</td>\n",
              "      <td>0</td>\n",
              "      <td>5</td>\n",
              "    </tr>\n",
              "    <tr>\n",
              "      <th>1</th>\n",
              "      <td>0</td>\n",
              "      <td>0</td>\n",
              "      <td>0</td>\n",
              "      <td>0</td>\n",
              "      <td>0</td>\n",
              "      <td>1</td>\n",
              "      <td>5</td>\n",
              "    </tr>\n",
              "    <tr>\n",
              "      <th>2</th>\n",
              "      <td>0</td>\n",
              "      <td>0</td>\n",
              "      <td>0</td>\n",
              "      <td>0</td>\n",
              "      <td>1</td>\n",
              "      <td>0</td>\n",
              "      <td>4</td>\n",
              "    </tr>\n",
              "    <tr>\n",
              "      <th>3</th>\n",
              "      <td>0</td>\n",
              "      <td>0</td>\n",
              "      <td>0</td>\n",
              "      <td>0</td>\n",
              "      <td>1</td>\n",
              "      <td>1</td>\n",
              "      <td>5</td>\n",
              "    </tr>\n",
              "    <tr>\n",
              "      <th>4</th>\n",
              "      <td>0</td>\n",
              "      <td>0</td>\n",
              "      <td>0</td>\n",
              "      <td>1</td>\n",
              "      <td>0</td>\n",
              "      <td>0</td>\n",
              "      <td>5</td>\n",
              "    </tr>\n",
              "    <tr>\n",
              "      <th>...</th>\n",
              "      <td>...</td>\n",
              "      <td>...</td>\n",
              "      <td>...</td>\n",
              "      <td>...</td>\n",
              "      <td>...</td>\n",
              "      <td>...</td>\n",
              "      <td>...</td>\n",
              "    </tr>\n",
              "    <tr>\n",
              "      <th>59</th>\n",
              "      <td>1</td>\n",
              "      <td>1</td>\n",
              "      <td>1</td>\n",
              "      <td>0</td>\n",
              "      <td>1</td>\n",
              "      <td>1</td>\n",
              "      <td>5</td>\n",
              "    </tr>\n",
              "    <tr>\n",
              "      <th>60</th>\n",
              "      <td>1</td>\n",
              "      <td>1</td>\n",
              "      <td>1</td>\n",
              "      <td>1</td>\n",
              "      <td>0</td>\n",
              "      <td>0</td>\n",
              "      <td>5</td>\n",
              "    </tr>\n",
              "    <tr>\n",
              "      <th>61</th>\n",
              "      <td>1</td>\n",
              "      <td>1</td>\n",
              "      <td>1</td>\n",
              "      <td>1</td>\n",
              "      <td>0</td>\n",
              "      <td>1</td>\n",
              "      <td>5</td>\n",
              "    </tr>\n",
              "    <tr>\n",
              "      <th>62</th>\n",
              "      <td>1</td>\n",
              "      <td>1</td>\n",
              "      <td>1</td>\n",
              "      <td>1</td>\n",
              "      <td>1</td>\n",
              "      <td>0</td>\n",
              "      <td>4</td>\n",
              "    </tr>\n",
              "    <tr>\n",
              "      <th>63</th>\n",
              "      <td>1</td>\n",
              "      <td>1</td>\n",
              "      <td>1</td>\n",
              "      <td>1</td>\n",
              "      <td>1</td>\n",
              "      <td>1</td>\n",
              "      <td>5</td>\n",
              "    </tr>\n",
              "  </tbody>\n",
              "</table>\n",
              "<p>64 rows × 7 columns</p>\n",
              "</div>"
            ],
            "text/plain": [
              "    a  b  c  d  e  f  fitness\n",
              "0   0  0  0  0  0  0        5\n",
              "1   0  0  0  0  0  1        5\n",
              "2   0  0  0  0  1  0        4\n",
              "3   0  0  0  0  1  1        5\n",
              "4   0  0  0  1  0  0        5\n",
              ".. .. .. .. .. .. ..      ...\n",
              "59  1  1  1  0  1  1        5\n",
              "60  1  1  1  1  0  0        5\n",
              "61  1  1  1  1  0  1        5\n",
              "62  1  1  1  1  1  0        4\n",
              "63  1  1  1  1  1  1        5\n",
              "\n",
              "[64 rows x 7 columns]"
            ]
          },
          "metadata": {
            "tags": []
          },
          "execution_count": 12
        }
      ]
    },
    {
      "cell_type": "markdown",
      "metadata": {
        "id": "5I_G3LZsh5uP"
      },
      "source": [
        "## Stappen 3 t.e.m. 10: Inspyred library gebruiken\r\n",
        "\r\n",
        "Minimaal nodig:\r\n",
        "* generatorfunctie\r\n",
        "* evaluatorfunctie"
      ]
    },
    {
      "cell_type": "markdown",
      "metadata": {
        "id": "Fp-NoESdiTbU"
      },
      "source": [
        "### Generatorfunctie schrijven"
      ]
    },
    {
      "cell_type": "code",
      "metadata": {
        "id": "yLH9uTZJiWmB"
      },
      "source": [
        "import numpy as np\r\n",
        "\r\n",
        "def generate(random = None, args =  None) -> []:\r\n",
        "    return np.random.randint(low=0, high=2, size=6)"
      ],
      "execution_count": null,
      "outputs": []
    },
    {
      "cell_type": "code",
      "metadata": {
        "colab": {
          "base_uri": "https://localhost:8080/"
        },
        "id": "DY7BWR_rieDy",
        "outputId": "cd4ad4e9-5098-4e09-b05f-2fb08ec50db9"
      },
      "source": [
        "candidate  = generate()\r\n",
        "print('Candidate solution:', candidate)\r\n",
        "\r\n",
        "print('Candidate fitness:', formule_fitness(candidate))"
      ],
      "execution_count": null,
      "outputs": [
        {
          "output_type": "stream",
          "text": [
            "Candidate solution: [0 0 1 1 0 1]\n",
            "Candidate fitness: 5\n"
          ],
          "name": "stdout"
        }
      ]
    },
    {
      "cell_type": "markdown",
      "metadata": {
        "id": "ttKt0mlqirqS"
      },
      "source": [
        "### Evaluatorfunctie schrijven\r\n"
      ]
    },
    {
      "cell_type": "code",
      "metadata": {
        "id": "F8Te4_VqiwFX"
      },
      "source": [
        "def evaluate(candidates, args = {}):\r\n",
        "    fitness = []\r\n",
        "    for candidate in candidates:\r\n",
        "        fitness.append(formule_fitness(candidate))\r\n",
        "    return fitness"
      ],
      "execution_count": null,
      "outputs": []
    },
    {
      "cell_type": "markdown",
      "metadata": {
        "id": "VKxLLsX0jQdq"
      },
      "source": [
        "### GA algoritme laten zoeken naar (sub)optimale oplossing"
      ]
    },
    {
      "cell_type": "code",
      "metadata": {
        "colab": {
          "base_uri": "https://localhost:8080/"
        },
        "id": "Zl1KeyKijY5t",
        "outputId": "cf1dad73-7ab7-4b8d-e205-9c55facba972"
      },
      "source": [
        "from random import Random\r\n",
        "import inspyred\r\n",
        "from inspyred.ec import Individual\r\n",
        "\r\n",
        "rand = Random()\r\n",
        "ga = inspyred.ec.GA(rand)\r\n",
        "\r\n",
        "population: [Individual] = ga.evolve(\r\n",
        "    generator=generate,\r\n",
        "    evaluator=evaluate,\r\n",
        "    pop_size=100,\r\n",
        "    maximize=True,\r\n",
        "    bounder=inspyred.ec.Bounder(0, 1),\r\n",
        "    max_evaluations=1000,\r\n",
        "    mutation_rate=0.25)\r\n",
        "\r\n",
        "# Sort and print the best individual, who will be at index 0.\r\n",
        "population.sort(reverse=True)\r\n",
        "for solution in population:\r\n",
        "    print('{} -> {}'.format(solution.candidate, formule_fitness(solution.candidate)))\r\n"
      ],
      "execution_count": null,
      "outputs": [
        {
          "output_type": "stream",
          "text": [
            "[0 0 1 1 0 0] -> 5\n",
            "[1 1 1 0 0 1] -> 5\n",
            "[0 1 1 1 0 0] -> 5\n",
            "[1 1 1 0 1 1] -> 5\n",
            "[1 0 1 1 1 1] -> 5\n",
            "[0 0 0 0 1 1] -> 5\n",
            "[0 1 1 1 0 0] -> 5\n",
            "[0 0 1 0 1 1] -> 5\n",
            "[0 0 1 1 0 1] -> 5\n",
            "[0 0 0 0 0 0] -> 5\n",
            "[1 1 1 0 1 1] -> 5\n",
            "[1 0 1 0 0 0] -> 5\n",
            "[1 0 1 1 0 0] -> 5\n",
            "[1 1 1 1 0 0] -> 5\n",
            "[1 1 1 1 0 1] -> 5\n",
            "[0 0 1 1 1 1] -> 5\n",
            "[0 0 1 1 0 1] -> 5\n",
            "[1 0 1 0 0 1] -> 5\n",
            "[1 1 1 0 0 1] -> 5\n",
            "[1 0 1 1 0 1] -> 5\n",
            "[1 1 1 0 0 1] -> 5\n",
            "[1 1 1 0 0 0] -> 5\n",
            "[0 0 0 1 0 0] -> 5\n",
            "[0 0 0 1 0 1] -> 5\n",
            "[0 0 0 0 0 0] -> 5\n",
            "[1 0 1 1 0 0] -> 5\n",
            "[0 0 0 1 0 1] -> 5\n",
            "[0 0 1 1 0 1] -> 5\n",
            "[0 0 1 1 0 1] -> 5\n",
            "[0 1 1 0 0 0] -> 5\n",
            "[0 0 0 0 0 1] -> 5\n",
            "[0 1 1 0 1 1] -> 5\n",
            "[0 1 1 0 1 1] -> 5\n",
            "[0 0 1 0 0 0] -> 5\n",
            "[1 0 1 1 0 1] -> 5\n",
            "[1 1 1 0 0 0] -> 5\n",
            "[1 1 1 0 0 1] -> 5\n",
            "[1 1 1 1 1 1] -> 5\n",
            "[0 1 1 0 0 1] -> 5\n",
            "[0 0 1 0 0 0] -> 5\n",
            "[1 0 1 0 0 1] -> 5\n",
            "[1 1 1 0 1 1] -> 5\n",
            "[1 1 1 0 0 0] -> 5\n",
            "[1 1 1 1 0 1] -> 5\n",
            "[1 1 0 1 0 1] -> 4\n",
            "[1 1 0 1 0 0] -> 4\n",
            "[1 1 0 0 0 1] -> 4\n",
            "[0 1 0 1 0 1] -> 4\n",
            "[1 1 0 1 0 0] -> 4\n",
            "[0 0 0 1 1 0] -> 4\n",
            "[0 0 0 0 1 0] -> 4\n",
            "[1 0 1 0 1 0] -> 4\n",
            "[1 0 1 1 1 0] -> 4\n",
            "[1 0 1 0 1 0] -> 4\n",
            "[1 0 1 0 1 0] -> 4\n",
            "[0 1 0 0 0 0] -> 4\n",
            "[1 1 0 0 0 1] -> 4\n",
            "[0 1 0 1 0 0] -> 4\n",
            "[0 1 0 0 0 1] -> 4\n",
            "[1 1 1 1 1 0] -> 4\n",
            "[1 0 1 0 1 0] -> 4\n",
            "[0 0 1 1 1 0] -> 4\n",
            "[0 0 1 0 1 0] -> 4\n",
            "[0 0 1 0 1 0] -> 4\n",
            "[1 1 1 0 1 0] -> 4\n",
            "[0 1 1 0 1 0] -> 4\n",
            "[0 1 0 1 0 0] -> 4\n",
            "[0 1 0 1 1 1] -> 4\n",
            "[0 1 1 0 1 0] -> 4\n",
            "[1 0 1 1 1 0] -> 4\n",
            "[1 0 1 0 1 0] -> 4\n",
            "[1 0 1 0 1 0] -> 4\n",
            "[1 0 1 1 1 0] -> 4\n",
            "[1 1 0 1 0 0] -> 4\n",
            "[0 1 0 0 0 1] -> 4\n",
            "[1 1 1 1 1 0] -> 4\n",
            "[0 1 1 1 1 0] -> 4\n",
            "[0 0 1 1 1 0] -> 4\n",
            "[0 1 0 0 0 1] -> 4\n",
            "[1 1 1 1 1 0] -> 4\n",
            "[0 0 0 1 1 0] -> 4\n",
            "[0 0 1 1 1 0] -> 4\n",
            "[1 0 0 0 0 1] -> 4\n",
            "[0 1 1 1 1 0] -> 4\n",
            "[1 0 0 0 1 1] -> 3\n",
            "[1 0 0 1 1 1] -> 3\n",
            "[1 0 0 0 1 1] -> 3\n",
            "[0 1 0 1 1 0] -> 3\n",
            "[1 0 0 1 1 1] -> 3\n",
            "[0 1 0 1 1 0] -> 3\n",
            "[0 1 0 0 1 1] -> 3\n",
            "[0 1 0 0 1 1] -> 3\n",
            "[0 1 0 1 1 0] -> 3\n",
            "[0 1 0 0 1 1] -> 3\n",
            "[0 1 0 0 1 1] -> 3\n",
            "[1 1 0 1 1 0] -> 2\n",
            "[1 1 0 1 1 0] -> 2\n",
            "[1 1 0 1 1 0] -> 2\n",
            "[1 0 0 0 1 0] -> 2\n",
            "[1 1 0 0 1 0] -> 1\n"
          ],
          "name": "stdout"
        }
      ]
    },
    {
      "cell_type": "markdown",
      "metadata": {
        "id": "0LDkxtbfnKfZ"
      },
      "source": [
        "### SA Algoritme laten zoeken naar (sub)optimale oplossing"
      ]
    },
    {
      "cell_type": "code",
      "metadata": {
        "colab": {
          "base_uri": "https://localhost:8080/"
        },
        "id": "SV_gFVtonU5i",
        "outputId": "60a51f46-838d-4401-8047-1cf2099b0695"
      },
      "source": [
        "sa = inspyred.ec.SA(rand)\r\n",
        "sa.terminator = inspyred.ec.terminators.evaluation_termination\r\n",
        "\r\n",
        "population: [Individual] = sa.evolve(\r\n",
        "    generator = generate,\r\n",
        "    evaluator = evaluate,\r\n",
        "    maximize = True,\r\n",
        "    bounder = inspyred.ec.Bounder(0, 1),\r\n",
        "    temperature = 1000,\r\n",
        "    cooling_rate = 0.5,\r\n",
        "    max_evaluations = 1000,\r\n",
        "    mutation_rate = 0.25)\r\n",
        "\r\n",
        "# Sort and print the best individual, who will be at index 0.\r\n",
        "population.sort(reverse=True)\r\n",
        "for solution in population:\r\n",
        "    print('{} -> {}'.format(solution.candidate,formule_fitness(solution.candidate)))\r\n"
      ],
      "execution_count": null,
      "outputs": [
        {
          "output_type": "stream",
          "text": [
            "[0 0 0 0 0 0] -> 5\n"
          ],
          "name": "stdout"
        }
      ]
    },
    {
      "cell_type": "code",
      "metadata": {
        "id": "uNTnp1jYPfTg",
        "outputId": "b28c523c-5c9d-4b8c-b593-60af8c883e14",
        "colab": {
          "base_uri": "https://localhost:8080/"
        }
      },
      "source": [
        "print('opvulling om te kunnen afdrukken \\n\\n\\n\\n\\n\\n\\n\\n\\n\\n\\n\\n\\n\\n\\n\\n')"
      ],
      "execution_count": 1,
      "outputs": [
        {
          "output_type": "stream",
          "text": [
            "opvulling om te kunnen afdrukken \n",
            "\n",
            "\n",
            "\n",
            "\n",
            "\n",
            "\n",
            "\n",
            "\n",
            "\n",
            "\n",
            "\n",
            "\n",
            "\n",
            "\n",
            "\n",
            "\n"
          ],
          "name": "stdout"
        }
      ]
    }
  ]
}